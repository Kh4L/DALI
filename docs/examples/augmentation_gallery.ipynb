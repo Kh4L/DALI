{
 "cells": [
  {
   "cell_type": "markdown",
   "metadata": {},
   "source": [
    "# Augmentation Gallery\n",
    "\n",
    "This example showcases different augmentations possible with DALI."
   ]
  },
  {
   "cell_type": "code",
   "execution_count": 1,
   "metadata": {},
   "outputs": [],
   "source": [
    "from nvidia.dali.pipeline import Pipeline\n",
    "import nvidia.dali.ops as ops\n",
    "import nvidia.dali.types as types\n",
    "import numpy as np\n",
    "from timeit import default_timer as timer\n",
    "import numpy as np\n",
    "import matplotlib.pyplot as plt\n",
    "\n",
    "db_folder = \"/data/imagenet/train-lmdb-256x256\"\n",
    "\n",
    "class HybridPipe(Pipeline):\n",
    "    def __init__(self, batch_size, num_threads, device_id, pipelined = True, async = True):\n",
    "        super(HybridPipe, self).__init__(batch_size, num_threads, device_id, seed = 12, exec_pipelined=pipelined, exec_async=async)\n",
    "        self.input = ops.CaffeReader(path = db_folder, random_shuffle = True)\n",
    "        self.decode = ops.nvJPEGDecoder(device = \"mixed\", output_type = types.RGB)\n",
    "        self.cmnp = ops.CropMirrorNormalize(device = \"gpu\",\n",
    "                                            output_dtype = types.FLOAT,\n",
    "                                            output_layout = types.NHWC,\n",
    "                                            crop = (224, 224),\n",
    "                                            image_type = types.RGB,\n",
    "                                            mean = [0., 0., 0.],\n",
    "                                            std = [1., 1., 1.])\n",
    "        self.augmentations = {}\n",
    "        self.augmentations[\"jitter\"] = ops.Jitter(device = \"gpu\")\n",
    "        self.augmentations[\"watter\"] = ops.Water(device = \"gpu\")\n",
    "        self.augmentations[\"shpere\"] = ops.Sphere(device = \"gpu\")\n",
    "        self.augmentations[\"roptate\"] = ops.Rotate(device = \"gpu\", angle = 30.0, interp_type = types.INTERP_LINEAR)\n",
    "        self.augmentations[\"warpaffine\"] = ops.WarpAffine(device = \"gpu\", matrix = [1.0, 0.8, 0.0, 0.0, 1.2, 0.0],\n",
    "                                                 use_image_center = True, interp_type = types.INTERP_LINEAR)\n",
    "        self.augmentations[\"contrast\"] = ops.Contrast(device = \"gpu\", contrast = 1.5)\n",
    "        self.augmentations[\"brightness\"] = ops.Brightness(device = \"gpu\", brightness = 0.5)\n",
    "        self.augmentations[\"saturation\"] = ops.Saturation(device = \"gpu\", saturation = 0.2)\n",
    "        self.augmentations[\"hue\"] = ops.Hue(device = \"gpu\", hue = 45.)\n",
    "        self.augmentations[\"crop\"] = ops.Paste(device = \"gpu\", ratio = 2., fill_value = (55, 155, 155),\n",
    "                                            paste_x = .3, paste_y = .2)\n",
    "        self.augmentations[\"resize\"] = ops.Resize(device = \"gpu\", resize_shorter = 480)\n",
    "        self.augmentations[\"flip\"] = ops.Flip(device = \"gpu\", vertical = True, horizontal = False)\n",
    "        self.uniform = ops.Uniform(range = (0.0, 1.0))\n",
    "        self.iter = 0\n",
    "\n",
    "    def define_graph(self):\n",
    "        self.jpegs, self.labels = self.input()\n",
    "        images = self.decode(self.jpegs)\n",
    "        n = len(self.augmentations)\n",
    "        outputs = [images for _ in range(n+1)]\n",
    "        aug_list = self.augmentations.values()\n",
    "        # outputs[0] is the original cropped image\n",
    "        for i in range(n):\n",
    "            outputs[i+1] = aug_list[i](outputs[i+1])\n",
    "        cropped_images = []\n",
    "        for out in outputs:\n",
    "            cropped_images.append(self.cmnp(out,\n",
    "                                crop_pos_x = self.uniform(),\n",
    "                                crop_pos_y = self.uniform()))\n",
    "        return [self.labels] + cropped_images\n",
    "\n",
    "    def iter_setup(self):\n",
    "        pass"
   ]
  },
  {
   "cell_type": "code",
   "execution_count": 2,
   "metadata": {
    "scrolled": false
   },
   "outputs": [
    {
     "ename": "AttributeError",
     "evalue": "'module' object has no attribute 'Flip'",
     "output_type": "error",
     "traceback": [
      "\u001b[0;31m---------------------------------------------------------------------------\u001b[0m",
      "\u001b[0;31mAttributeError\u001b[0m                            Traceback (most recent call last)",
      "\u001b[0;32m<ipython-input-2-caf7f93d97e5>\u001b[0m in \u001b[0;36m<module>\u001b[0;34m()\u001b[0m\n\u001b[1;32m      1\u001b[0m \u001b[0mbatch_size\u001b[0m \u001b[0;34m=\u001b[0m \u001b[0;36m32\u001b[0m\u001b[0;34m\u001b[0m\u001b[0m\n\u001b[1;32m      2\u001b[0m \u001b[0;34m\u001b[0m\u001b[0m\n\u001b[0;32m----> 3\u001b[0;31m \u001b[0mpipe\u001b[0m \u001b[0;34m=\u001b[0m \u001b[0mHybridPipe\u001b[0m\u001b[0;34m(\u001b[0m\u001b[0mbatch_size\u001b[0m\u001b[0;34m=\u001b[0m\u001b[0mbatch_size\u001b[0m\u001b[0;34m,\u001b[0m \u001b[0mnum_threads\u001b[0m\u001b[0;34m=\u001b[0m\u001b[0;36m2\u001b[0m\u001b[0;34m,\u001b[0m \u001b[0mdevice_id\u001b[0m \u001b[0;34m=\u001b[0m \u001b[0;36m0\u001b[0m\u001b[0;34m)\u001b[0m\u001b[0;34m\u001b[0m\u001b[0m\n\u001b[0m\u001b[1;32m      4\u001b[0m \u001b[0mpipe\u001b[0m\u001b[0;34m.\u001b[0m\u001b[0mbuild\u001b[0m\u001b[0;34m(\u001b[0m\u001b[0;34m)\u001b[0m\u001b[0;34m\u001b[0m\u001b[0m\n",
      "\u001b[0;32m<ipython-input-1-052b68562d0c>\u001b[0m in \u001b[0;36m__init__\u001b[0;34m(self, batch_size, num_threads, device_id, pipelined, async)\u001b[0m\n\u001b[1;32m     35\u001b[0m                                             paste_x = .3, paste_y = .2)\n\u001b[1;32m     36\u001b[0m         \u001b[0mself\u001b[0m\u001b[0;34m.\u001b[0m\u001b[0maugmentations\u001b[0m\u001b[0;34m[\u001b[0m\u001b[0;34m\"resize\"\u001b[0m\u001b[0;34m]\u001b[0m \u001b[0;34m=\u001b[0m \u001b[0mops\u001b[0m\u001b[0;34m.\u001b[0m\u001b[0mResize\u001b[0m\u001b[0;34m(\u001b[0m\u001b[0mdevice\u001b[0m \u001b[0;34m=\u001b[0m \u001b[0;34m\"gpu\"\u001b[0m\u001b[0;34m,\u001b[0m \u001b[0mresize_shorter\u001b[0m \u001b[0;34m=\u001b[0m \u001b[0;36m480\u001b[0m\u001b[0;34m)\u001b[0m\u001b[0;34m\u001b[0m\u001b[0m\n\u001b[0;32m---> 37\u001b[0;31m         \u001b[0mself\u001b[0m\u001b[0;34m.\u001b[0m\u001b[0maugmentations\u001b[0m\u001b[0;34m[\u001b[0m\u001b[0;34m\"flip\"\u001b[0m\u001b[0;34m]\u001b[0m \u001b[0;34m=\u001b[0m \u001b[0mops\u001b[0m\u001b[0;34m.\u001b[0m\u001b[0mFlip\u001b[0m\u001b[0;34m(\u001b[0m\u001b[0mdevice\u001b[0m \u001b[0;34m=\u001b[0m \u001b[0;34m\"gpu\"\u001b[0m\u001b[0;34m,\u001b[0m \u001b[0mvertical\u001b[0m \u001b[0;34m=\u001b[0m \u001b[0mTrue\u001b[0m\u001b[0;34m,\u001b[0m \u001b[0mhorizontal\u001b[0m \u001b[0;34m=\u001b[0m \u001b[0mFalse\u001b[0m\u001b[0;34m)\u001b[0m\u001b[0;34m\u001b[0m\u001b[0m\n\u001b[0m\u001b[1;32m     38\u001b[0m         \u001b[0mself\u001b[0m\u001b[0;34m.\u001b[0m\u001b[0muniform\u001b[0m \u001b[0;34m=\u001b[0m \u001b[0mops\u001b[0m\u001b[0;34m.\u001b[0m\u001b[0mUniform\u001b[0m\u001b[0;34m(\u001b[0m\u001b[0mrange\u001b[0m \u001b[0;34m=\u001b[0m \u001b[0;34m(\u001b[0m\u001b[0;36m0.0\u001b[0m\u001b[0;34m,\u001b[0m \u001b[0;36m1.0\u001b[0m\u001b[0;34m)\u001b[0m\u001b[0;34m)\u001b[0m\u001b[0;34m\u001b[0m\u001b[0m\n\u001b[1;32m     39\u001b[0m         \u001b[0mself\u001b[0m\u001b[0;34m.\u001b[0m\u001b[0miter\u001b[0m \u001b[0;34m=\u001b[0m \u001b[0;36m0\u001b[0m\u001b[0;34m\u001b[0m\u001b[0m\n",
      "\u001b[0;31mAttributeError\u001b[0m: 'module' object has no attribute 'Flip'"
     ]
    }
   ],
   "source": [
    "batch_size = 32\n",
    "\n",
    "pipe = HybridPipe(batch_size=batch_size, num_threads=2, device_id = 0)\n",
    "pipe.build()"
   ]
  },
  {
   "cell_type": "code",
   "execution_count": null,
   "metadata": {},
   "outputs": [],
   "source": [
    "pipe_out = pipe.run()"
   ]
  },
  {
   "cell_type": "code",
   "execution_count": null,
   "metadata": {},
   "outputs": [],
   "source": [
    "n = 5\n",
    "from synsets import imagenet_synsets\n",
    "import matplotlib.gridspec as gridspec\n",
    "len_outputs = len(pipe_out) - 1\n",
    "augmentations = [\"original\"] + pipe.augmentations.keys()\n",
    "fig = plt.figure(figsize = (16,16))\n",
    "plt.suptitle(imagenet_synsets[pipe_out[0].at(n)[0]], fontsize=16)\n",
    "columns = 4\n",
    "rows = len_outputs / columns + 1\n",
    "gs = gridspec.GridSpec(rows, columns)\n",
    "for i in range(len_outputs):\n",
    "    plt.subplot(gs[i])\n",
    "    plt.axis(\"off\")\n",
    "    plt.title(augmentations[i])\n",
    "    pipe_out_cpu = pipe_out[1 + i].asCPU()\n",
    "    img_chw = pipe_out_cpu.at(n)\n",
    "    plt.imshow((img_chw)/255.0)"
   ]
  }
 ],
 "metadata": {
  "kernelspec": {
   "display_name": "Python 2",
   "language": "python",
   "name": "python2"
  },
  "language_info": {
   "codemirror_mode": {
    "name": "ipython",
    "version": 2
   },
   "file_extension": ".py",
   "mimetype": "text/x-python",
   "name": "python",
   "nbconvert_exporter": "python",
   "pygments_lexer": "ipython2",
   "version": "2.7.15rc1"
  }
 },
 "nbformat": 4,
 "nbformat_minor": 2
}
